{
 "cells": [
  {
   "cell_type": "markdown",
   "metadata": {},
   "source": [
    "# Create Machine Learning Algorithm"
   ]
  },
  {
   "cell_type": "markdown",
   "metadata": {},
   "source": [
    "## Import the libraries"
   ]
  },
  {
   "cell_type": "code",
   "execution_count": 1,
   "metadata": {},
   "outputs": [],
   "source": [
    "import numpy as np\n",
    "import tensorflow as tf"
   ]
  },
  {
   "cell_type": "markdown",
   "metadata": {},
   "source": [
    "### Data"
   ]
  },
  {
   "cell_type": "code",
   "execution_count": 2,
   "metadata": {},
   "outputs": [],
   "source": [
    "# create the path for each of the sourceo of dataset\n",
    "\n",
    "path_training = 'audiobooks_data_train.npz'\n",
    "path_test = 'audiobooks_data_validation.npz'\n",
    "path_validation = 'audiobooks_data_test.npz'\n",
    "\n",
    "# use a temporary npz file to store information from the paths\n",
    "npz_temp = np.load(path_training)\n",
    "\n",
    "# extract the information with the correct inputs and targets\n",
    "# make sure that the input type are floats, and the target type is integers \n",
    "train_inputs = npz_temp['inputs'].astype(np.float)\n",
    "train_targets = npz_temp['targets'].astype(np.int)\n",
    "\n",
    "# repeat this process but for validation dataset\n",
    "npz_temp = np.load(path_validation)\n",
    "\n",
    "# extract the validation dataset with inputs and targets\n",
    "validation_inputs = npz_temp['inputs'].astype(np.float)\n",
    "validation_targets = npz_temp['targets'].astype(np.int)\n",
    "\n",
    "# repeat this process but for test dataset\n",
    "npz_temp = np.load(path_test)\n",
    "\n",
    "# extract the test dataset with inputs and targets\n",
    "test_inputs = npz_temp['inputs'].astype(np.float)\n",
    "test_targets = npz_temp['targets'].astype(np.int)"
   ]
  },
  {
   "cell_type": "markdown",
   "metadata": {},
   "source": [
    "### Model"
   ]
  },
  {
   "cell_type": "code",
   "execution_count": 3,
   "metadata": {},
   "outputs": [
    {
     "name": "stdout",
     "output_type": "stream",
     "text": [
      "Epoch 1/100\n",
      "36/36 - 1s - loss: 0.4893 - accuracy: 0.7307 - val_loss: 0.3748 - val_accuracy: 0.8192\n",
      "Epoch 2/100\n",
      "36/36 - 0s - loss: 0.3844 - accuracy: 0.7950 - val_loss: 0.3564 - val_accuracy: 0.8214\n",
      "Epoch 3/100\n",
      "36/36 - 0s - loss: 0.3694 - accuracy: 0.7922 - val_loss: 0.3347 - val_accuracy: 0.8125\n",
      "Epoch 4/100\n",
      "36/36 - 0s - loss: 0.3575 - accuracy: 0.8089 - val_loss: 0.3383 - val_accuracy: 0.8058\n",
      "Epoch 5/100\n",
      "36/36 - 0s - loss: 0.3487 - accuracy: 0.8087 - val_loss: 0.3214 - val_accuracy: 0.8103\n",
      "Epoch 6/100\n",
      "36/36 - 0s - loss: 0.3470 - accuracy: 0.8101 - val_loss: 0.3185 - val_accuracy: 0.8192\n",
      "Epoch 7/100\n",
      "36/36 - 0s - loss: 0.3455 - accuracy: 0.8134 - val_loss: 0.3043 - val_accuracy: 0.8237\n",
      "Epoch 8/100\n",
      "36/36 - 0s - loss: 0.3372 - accuracy: 0.8193 - val_loss: 0.3107 - val_accuracy: 0.8170\n",
      "Epoch 9/100\n",
      "36/36 - 0s - loss: 0.3339 - accuracy: 0.8198 - val_loss: 0.3083 - val_accuracy: 0.8348\n",
      "Epoch 10/100\n",
      "36/36 - 0s - loss: 0.3312 - accuracy: 0.8182 - val_loss: 0.3308 - val_accuracy: 0.8304\n",
      "Epoch 11/100\n",
      "36/36 - 0s - loss: 0.3397 - accuracy: 0.8162 - val_loss: 0.3035 - val_accuracy: 0.8348\n",
      "Epoch 12/100\n",
      "36/36 - 0s - loss: 0.3306 - accuracy: 0.8156 - val_loss: 0.3045 - val_accuracy: 0.8214\n",
      "Epoch 13/100\n",
      "36/36 - 0s - loss: 0.3256 - accuracy: 0.8268 - val_loss: 0.2982 - val_accuracy: 0.8482\n",
      "Epoch 14/100\n",
      "36/36 - 0s - loss: 0.3233 - accuracy: 0.8201 - val_loss: 0.3013 - val_accuracy: 0.8482\n",
      "Epoch 15/100\n",
      "36/36 - 0s - loss: 0.3255 - accuracy: 0.8235 - val_loss: 0.3124 - val_accuracy: 0.8058\n",
      "Epoch 16/100\n",
      "36/36 - 0s - loss: 0.3247 - accuracy: 0.8223 - val_loss: 0.2863 - val_accuracy: 0.8348\n",
      "Epoch 17/100\n",
      "36/36 - 0s - loss: 0.3354 - accuracy: 0.8193 - val_loss: 0.2951 - val_accuracy: 0.8415\n",
      "Epoch 18/100\n",
      "36/36 - 0s - loss: 0.3254 - accuracy: 0.8237 - val_loss: 0.3089 - val_accuracy: 0.8259\n",
      "Epoch 19/100\n",
      "36/36 - 0s - loss: 0.3225 - accuracy: 0.8204 - val_loss: 0.3058 - val_accuracy: 0.8371\n",
      "Epoch 20/100\n",
      "36/36 - 0s - loss: 0.3246 - accuracy: 0.8257 - val_loss: 0.3143 - val_accuracy: 0.8125\n",
      "Epoch 21/100\n",
      "36/36 - 0s - loss: 0.3265 - accuracy: 0.8218 - val_loss: 0.3051 - val_accuracy: 0.8393\n",
      "Epoch 22/100\n",
      "36/36 - 0s - loss: 0.3267 - accuracy: 0.8148 - val_loss: 0.3152 - val_accuracy: 0.8147\n",
      "Epoch 23/100\n",
      "36/36 - 0s - loss: 0.3189 - accuracy: 0.8274 - val_loss: 0.3080 - val_accuracy: 0.8170\n",
      "Epoch 24/100\n",
      "36/36 - 0s - loss: 0.3257 - accuracy: 0.8168 - val_loss: 0.2898 - val_accuracy: 0.8237\n",
      "Epoch 25/100\n",
      "36/36 - 0s - loss: 0.3232 - accuracy: 0.8196 - val_loss: 0.2982 - val_accuracy: 0.8192\n",
      "Epoch 26/100\n",
      "36/36 - 0s - loss: 0.3164 - accuracy: 0.8226 - val_loss: 0.2919 - val_accuracy: 0.8147\n",
      "Epoch 27/100\n",
      "36/36 - 0s - loss: 0.3151 - accuracy: 0.8237 - val_loss: 0.2962 - val_accuracy: 0.8326\n",
      "Epoch 28/100\n",
      "36/36 - 0s - loss: 0.3234 - accuracy: 0.8249 - val_loss: 0.3061 - val_accuracy: 0.8259\n",
      "Epoch 29/100\n",
      "36/36 - 0s - loss: 0.3168 - accuracy: 0.8246 - val_loss: 0.2994 - val_accuracy: 0.8304\n",
      "Epoch 30/100\n",
      "36/36 - 0s - loss: 0.3177 - accuracy: 0.8285 - val_loss: 0.3021 - val_accuracy: 0.8259\n",
      "Epoch 31/100\n",
      "36/36 - 0s - loss: 0.3184 - accuracy: 0.8201 - val_loss: 0.2948 - val_accuracy: 0.8482\n",
      "Epoch 32/100\n",
      "36/36 - 0s - loss: 0.3178 - accuracy: 0.8285 - val_loss: 0.3001 - val_accuracy: 0.8348\n",
      "Epoch 33/100\n",
      "36/36 - 0s - loss: 0.3140 - accuracy: 0.8296 - val_loss: 0.2858 - val_accuracy: 0.8393\n",
      "Epoch 34/100\n",
      "36/36 - 0s - loss: 0.3182 - accuracy: 0.8304 - val_loss: 0.2988 - val_accuracy: 0.8371\n",
      "Epoch 35/100\n",
      "36/36 - 0s - loss: 0.3179 - accuracy: 0.8212 - val_loss: 0.3067 - val_accuracy: 0.8259\n",
      "Epoch 36/100\n",
      "36/36 - 0s - loss: 0.3132 - accuracy: 0.8288 - val_loss: 0.2842 - val_accuracy: 0.8415\n",
      "Epoch 37/100\n",
      "36/36 - 0s - loss: 0.3166 - accuracy: 0.8265 - val_loss: 0.2995 - val_accuracy: 0.8371\n",
      "Epoch 38/100\n",
      "36/36 - 0s - loss: 0.3166 - accuracy: 0.8209 - val_loss: 0.2866 - val_accuracy: 0.8259\n",
      "Epoch 39/100\n",
      "36/36 - 0s - loss: 0.3270 - accuracy: 0.8184 - val_loss: 0.3012 - val_accuracy: 0.8304\n",
      "Epoch 40/100\n",
      "36/36 - 0s - loss: 0.3180 - accuracy: 0.8265 - val_loss: 0.3221 - val_accuracy: 0.8348\n",
      "Epoch 41/100\n",
      "36/36 - 0s - loss: 0.3178 - accuracy: 0.8237 - val_loss: 0.2844 - val_accuracy: 0.8371\n",
      "Epoch 42/100\n",
      "36/36 - 0s - loss: 0.3242 - accuracy: 0.8223 - val_loss: 0.2941 - val_accuracy: 0.8348\n",
      "Epoch 43/100\n",
      "36/36 - 0s - loss: 0.3146 - accuracy: 0.8344 - val_loss: 0.3057 - val_accuracy: 0.8170\n",
      "Epoch 44/100\n",
      "36/36 - 0s - loss: 0.3128 - accuracy: 0.8243 - val_loss: 0.2939 - val_accuracy: 0.8438\n",
      "Epoch 45/100\n",
      "36/36 - 0s - loss: 0.3132 - accuracy: 0.8285 - val_loss: 0.3029 - val_accuracy: 0.8326\n",
      "Epoch 46/100\n",
      "36/36 - 0s - loss: 0.3149 - accuracy: 0.8237 - val_loss: 0.3037 - val_accuracy: 0.8460\n",
      "Epoch 47/100\n",
      "36/36 - 0s - loss: 0.3132 - accuracy: 0.8321 - val_loss: 0.2903 - val_accuracy: 0.8415\n",
      "Epoch 48/100\n",
      "36/36 - 0s - loss: 0.3149 - accuracy: 0.8237 - val_loss: 0.2907 - val_accuracy: 0.8348\n",
      "Epoch 49/100\n",
      "36/36 - 0s - loss: 0.3093 - accuracy: 0.8302 - val_loss: 0.2838 - val_accuracy: 0.8460\n",
      "Epoch 50/100\n",
      "36/36 - 0s - loss: 0.3143 - accuracy: 0.8310 - val_loss: 0.2924 - val_accuracy: 0.8415\n",
      "Epoch 51/100\n",
      "36/36 - 0s - loss: 0.3125 - accuracy: 0.8288 - val_loss: 0.2963 - val_accuracy: 0.8326\n",
      "Epoch 52/100\n",
      "36/36 - 0s - loss: 0.3115 - accuracy: 0.8240 - val_loss: 0.2791 - val_accuracy: 0.8371\n",
      "Epoch 53/100\n",
      "36/36 - 0s - loss: 0.3178 - accuracy: 0.8226 - val_loss: 0.3073 - val_accuracy: 0.8259\n",
      "Epoch 54/100\n",
      "36/36 - 0s - loss: 0.3145 - accuracy: 0.8251 - val_loss: 0.3009 - val_accuracy: 0.8371\n",
      "Epoch 55/100\n",
      "36/36 - 0s - loss: 0.3116 - accuracy: 0.8296 - val_loss: 0.2872 - val_accuracy: 0.8415\n",
      "Epoch 56/100\n",
      "36/36 - 0s - loss: 0.3120 - accuracy: 0.8302 - val_loss: 0.2856 - val_accuracy: 0.8371\n",
      "Epoch 57/100\n",
      "36/36 - 0s - loss: 0.3144 - accuracy: 0.8277 - val_loss: 0.2907 - val_accuracy: 0.8259\n",
      "Epoch 58/100\n",
      "36/36 - 0s - loss: 0.3090 - accuracy: 0.8304 - val_loss: 0.2827 - val_accuracy: 0.8371\n",
      "Epoch 59/100\n",
      "36/36 - 0s - loss: 0.3163 - accuracy: 0.8268 - val_loss: 0.2909 - val_accuracy: 0.8326\n",
      "Epoch 60/100\n",
      "36/36 - 0s - loss: 0.3112 - accuracy: 0.8279 - val_loss: 0.2896 - val_accuracy: 0.8415\n",
      "Epoch 61/100\n",
      "36/36 - 0s - loss: 0.3110 - accuracy: 0.8260 - val_loss: 0.2855 - val_accuracy: 0.8281\n",
      "Epoch 62/100\n",
      "36/36 - 0s - loss: 0.3090 - accuracy: 0.8332 - val_loss: 0.2962 - val_accuracy: 0.8259\n",
      "Epoch 63/100\n",
      "36/36 - 0s - loss: 0.3120 - accuracy: 0.8285 - val_loss: 0.3039 - val_accuracy: 0.8237\n",
      "Epoch 64/100\n",
      "36/36 - 0s - loss: 0.3077 - accuracy: 0.8277 - val_loss: 0.2858 - val_accuracy: 0.8371\n",
      "Epoch 65/100\n",
      "36/36 - 0s - loss: 0.3091 - accuracy: 0.8277 - val_loss: 0.2827 - val_accuracy: 0.8393\n",
      "Epoch 66/100\n",
      "36/36 - 0s - loss: 0.3143 - accuracy: 0.8302 - val_loss: 0.2846 - val_accuracy: 0.8415\n",
      "Epoch 67/100\n",
      "36/36 - 0s - loss: 0.3097 - accuracy: 0.8316 - val_loss: 0.2939 - val_accuracy: 0.8304\n",
      "Epoch 68/100\n",
      "36/36 - 0s - loss: 0.3080 - accuracy: 0.8257 - val_loss: 0.2907 - val_accuracy: 0.8237\n",
      "Epoch 69/100\n",
      "36/36 - 0s - loss: 0.3081 - accuracy: 0.8332 - val_loss: 0.2985 - val_accuracy: 0.8214\n",
      "Epoch 70/100\n",
      "36/36 - 0s - loss: 0.3094 - accuracy: 0.8291 - val_loss: 0.2861 - val_accuracy: 0.8438\n",
      "Epoch 71/100\n",
      "36/36 - 0s - loss: 0.3076 - accuracy: 0.8268 - val_loss: 0.2935 - val_accuracy: 0.8415\n",
      "Epoch 72/100\n",
      "36/36 - 0s - loss: 0.3095 - accuracy: 0.8344 - val_loss: 0.2992 - val_accuracy: 0.8549\n",
      "Epoch 73/100\n",
      "36/36 - 0s - loss: 0.3121 - accuracy: 0.8288 - val_loss: 0.2940 - val_accuracy: 0.8170\n",
      "Epoch 74/100\n",
      "36/36 - 0s - loss: 0.3075 - accuracy: 0.8251 - val_loss: 0.2902 - val_accuracy: 0.8438\n",
      "Epoch 75/100\n",
      "36/36 - 0s - loss: 0.3109 - accuracy: 0.8310 - val_loss: 0.2839 - val_accuracy: 0.8415\n",
      "Epoch 76/100\n",
      "36/36 - 0s - loss: 0.3175 - accuracy: 0.8265 - val_loss: 0.2839 - val_accuracy: 0.8326\n",
      "Epoch 77/100\n",
      "36/36 - 0s - loss: 0.3118 - accuracy: 0.8274 - val_loss: 0.2983 - val_accuracy: 0.8326\n",
      "Epoch 78/100\n",
      "36/36 - 0s - loss: 0.3052 - accuracy: 0.8358 - val_loss: 0.3131 - val_accuracy: 0.8259\n",
      "Epoch 79/100\n",
      "36/36 - 0s - loss: 0.3079 - accuracy: 0.8316 - val_loss: 0.2871 - val_accuracy: 0.8415\n",
      "Epoch 80/100\n",
      "36/36 - 0s - loss: 0.3073 - accuracy: 0.8277 - val_loss: 0.2862 - val_accuracy: 0.8482\n",
      "Epoch 81/100\n",
      "36/36 - 0s - loss: 0.3085 - accuracy: 0.8321 - val_loss: 0.2866 - val_accuracy: 0.8192\n",
      "Epoch 82/100\n",
      "36/36 - 0s - loss: 0.3055 - accuracy: 0.8302 - val_loss: 0.2872 - val_accuracy: 0.8304\n",
      "Epoch 83/100\n",
      "36/36 - 0s - loss: 0.3089 - accuracy: 0.8249 - val_loss: 0.2789 - val_accuracy: 0.8482\n"
     ]
    },
    {
     "name": "stdout",
     "output_type": "stream",
     "text": [
      "Epoch 84/100\n",
      "36/36 - 0s - loss: 0.3050 - accuracy: 0.8349 - val_loss: 0.2818 - val_accuracy: 0.8393\n",
      "Epoch 85/100\n",
      "36/36 - 0s - loss: 0.3102 - accuracy: 0.8274 - val_loss: 0.2818 - val_accuracy: 0.8527\n",
      "Epoch 86/100\n",
      "36/36 - 0s - loss: 0.3060 - accuracy: 0.8316 - val_loss: 0.2816 - val_accuracy: 0.8371\n",
      "Epoch 87/100\n",
      "36/36 - 0s - loss: 0.3091 - accuracy: 0.8316 - val_loss: 0.3115 - val_accuracy: 0.8058\n",
      "Epoch 88/100\n",
      "36/36 - 0s - loss: 0.3088 - accuracy: 0.8285 - val_loss: 0.2868 - val_accuracy: 0.8371\n",
      "Epoch 89/100\n",
      "36/36 - 0s - loss: 0.3026 - accuracy: 0.8341 - val_loss: 0.2912 - val_accuracy: 0.8214\n",
      "Epoch 90/100\n",
      "36/36 - 0s - loss: 0.3096 - accuracy: 0.8156 - val_loss: 0.3064 - val_accuracy: 0.8348\n",
      "Epoch 91/100\n",
      "36/36 - 0s - loss: 0.3087 - accuracy: 0.8229 - val_loss: 0.2879 - val_accuracy: 0.8304\n",
      "Epoch 92/100\n",
      "36/36 - 0s - loss: 0.3076 - accuracy: 0.8344 - val_loss: 0.2785 - val_accuracy: 0.8482\n",
      "Epoch 93/100\n",
      "36/36 - 0s - loss: 0.3075 - accuracy: 0.8318 - val_loss: 0.2831 - val_accuracy: 0.8326\n",
      "Epoch 94/100\n",
      "36/36 - 0s - loss: 0.3034 - accuracy: 0.8341 - val_loss: 0.2836 - val_accuracy: 0.8393\n",
      "Epoch 95/100\n",
      "36/36 - 0s - loss: 0.3069 - accuracy: 0.8254 - val_loss: 0.2818 - val_accuracy: 0.8504\n",
      "Epoch 96/100\n",
      "36/36 - 0s - loss: 0.3047 - accuracy: 0.8307 - val_loss: 0.2842 - val_accuracy: 0.8438\n",
      "Epoch 97/100\n",
      "36/36 - 0s - loss: 0.3075 - accuracy: 0.8257 - val_loss: 0.2794 - val_accuracy: 0.8504\n",
      "Epoch 98/100\n",
      "36/36 - 0s - loss: 0.3038 - accuracy: 0.8313 - val_loss: 0.2936 - val_accuracy: 0.8170\n",
      "Epoch 99/100\n",
      "36/36 - 0s - loss: 0.3059 - accuracy: 0.8307 - val_loss: 0.2827 - val_accuracy: 0.8304\n",
      "Epoch 100/100\n",
      "36/36 - 0s - loss: 0.3065 - accuracy: 0.8313 - val_loss: 0.2795 - val_accuracy: 0.8460\n"
     ]
    },
    {
     "data": {
      "text/plain": [
       "<tensorflow.python.keras.callbacks.History at 0x22388f565b0>"
      ]
     },
     "execution_count": 3,
     "metadata": {},
     "output_type": "execute_result"
    }
   ],
   "source": [
    "# The datasets are the following: \n",
    "# train_inputs, train_targets, validation_inputs, validation_targets, test_inputs, test_targets\n",
    "\n",
    "\n",
    "# we have 10 variables to test and we want a boolean output for conversion\n",
    "input_size = 10\n",
    "output_size = 2\n",
    "\n",
    "# list of inputs that we can tweak for our algorithm\n",
    "optimizer = 'adam'\n",
    "loss = 'sparse_categorical_crossentropy'\n",
    "metrics = 'accuracy'\n",
    "hidden_layer_size = 200\n",
    "depth = 3\n",
    "layer_activation = ['relu','relu']\n",
    "BUFFER_SIZE = 10000\n",
    "BATCH_SIZE = 100\n",
    "NUM_EPOCHS = 100\n",
    "\n",
    "# information that would be fed into the model\n",
    "sequence_list = []\n",
    "# the type of activation we want for each layer\n",
    "\n",
    "for i in range(len(layer_activation)):\n",
    "    sequence_list.append(tf.keras.layers.Dense(hidden_layer_size, layer_activation[i]))\n",
    "\n",
    "sequence_list.append(tf.keras.layers.Dense(output_size, activation='softmax'))\n",
    "\n",
    "sequence_list\n",
    "model = tf.keras.Sequential(sequence_list)\n",
    "\n",
    "model.compile(optimizer = 'adam', loss = loss, metrics = metrics)\n",
    "model.fit(\n",
    "    train_inputs,\n",
    "    train_targets,\n",
    "    batch_size = BATCH_SIZE, \n",
    "    epochs = NUM_EPOCHS, \n",
    "    validation_data = (validation_inputs,validation_targets),\n",
    "    verbose = 2\n",
    ")"
   ]
  },
  {
   "cell_type": "code",
   "execution_count": 4,
   "metadata": {},
   "outputs": [
    {
     "name": "stdout",
     "output_type": "stream",
     "text": [
      "Epoch 1/100\n",
      "36/36 - 0s - loss: 0.3079 - accuracy: 0.8296 - val_loss: 0.2811 - val_accuracy: 0.8460\n",
      "Epoch 2/100\n",
      "36/36 - 0s - loss: 0.3068 - accuracy: 0.8243 - val_loss: 0.2918 - val_accuracy: 0.8170\n"
     ]
    },
    {
     "data": {
      "text/plain": [
       "<tensorflow.python.keras.callbacks.History at 0x22390769d00>"
      ]
     },
     "execution_count": 4,
     "metadata": {},
     "output_type": "execute_result"
    }
   ],
   "source": [
    "# just looking at the training, there are parts where loss was decreasing but validation loss increases\n",
    "# this suggest that we have an overfitting problem\n",
    "# we are going to try EarlyStopping to see if it will help with the data\n",
    "\n",
    "early_stopping = tf.keras.callbacks.EarlyStopping()\n",
    "\n",
    "# we are going to add the callback parameter to the fit and see if it improves our results \n",
    "model.fit(\n",
    "    train_inputs,\n",
    "    train_targets,\n",
    "    batch_size = BATCH_SIZE, \n",
    "    epochs = NUM_EPOCHS, \n",
    "    callbacks = [early_stopping],\n",
    "    validation_data = (validation_inputs,validation_targets),\n",
    "    verbose = 2\n",
    ")"
   ]
  },
  {
   "cell_type": "code",
   "execution_count": 5,
   "metadata": {},
   "outputs": [
    {
     "name": "stdout",
     "output_type": "stream",
     "text": [
      "Epoch 1/100\n",
      "36/36 - 1s - loss: 0.3079 - accuracy: 0.8324 - val_loss: 0.2893 - val_accuracy: 0.8281\n",
      "Epoch 2/100\n",
      "36/36 - 0s - loss: 0.3057 - accuracy: 0.8274 - val_loss: 0.2810 - val_accuracy: 0.8214\n",
      "Epoch 3/100\n",
      "36/36 - 0s - loss: 0.3040 - accuracy: 0.8293 - val_loss: 0.2803 - val_accuracy: 0.8504\n",
      "Epoch 4/100\n",
      "36/36 - 0s - loss: 0.3035 - accuracy: 0.8318 - val_loss: 0.2786 - val_accuracy: 0.8438\n",
      "Epoch 5/100\n",
      "36/36 - 0s - loss: 0.3030 - accuracy: 0.8296 - val_loss: 0.2803 - val_accuracy: 0.8304\n",
      "Epoch 6/100\n",
      "36/36 - 0s - loss: 0.3044 - accuracy: 0.8313 - val_loss: 0.2827 - val_accuracy: 0.8348\n"
     ]
    },
    {
     "data": {
      "text/plain": [
       "<tensorflow.python.keras.callbacks.History at 0x223908108b0>"
      ]
     },
     "execution_count": 5,
     "metadata": {},
     "output_type": "execute_result"
    }
   ],
   "source": [
    "# looks like we ended with less than 10 EPOCHS with accuracy in about 84%\n",
    "# the early_topping might be too sensitive, we want to increase the tolerance\n",
    "\n",
    "# early stopping with new patience\n",
    "early_stopping = tf.keras.callbacks.EarlyStopping(patience = 2)\n",
    "\n",
    "optimizer = 'adam'\n",
    "loss = 'sparse_categorical_crossentropy'\n",
    "metrics = 'accuracy'\n",
    "hidden_layer_size = 200\n",
    "depth = 3\n",
    "layer_activation = 'relu'\n",
    "BUFFER_SIZE = 10000\n",
    "BATCH_SIZE = 100\n",
    "NUM_EPOCHS = 100\n",
    "\n",
    "# we are going to add the callback parameter to the fit and see if it improves our results \n",
    "model.compile(optimizer = 'adam', loss = loss, metrics = metrics)\n",
    "model.fit(\n",
    "    train_inputs,\n",
    "    train_targets,\n",
    "    batch_size = BATCH_SIZE, \n",
    "    epochs = NUM_EPOCHS, \n",
    "    callbacks = [early_stopping],\n",
    "    validation_data = (validation_inputs,validation_targets),\n",
    "    verbose = 2\n",
    ")"
   ]
  },
  {
   "cell_type": "code",
   "execution_count": 6,
   "metadata": {},
   "outputs": [
    {
     "name": "stdout",
     "output_type": "stream",
     "text": [
      "Epoch 1/50\n",
      "36/36 - 0s - loss: 0.3092 - accuracy: 0.8271 - val_loss: 0.2714 - val_accuracy: 0.8527\n",
      "Epoch 2/50\n",
      "36/36 - 0s - loss: 0.3034 - accuracy: 0.8335 - val_loss: 0.3024 - val_accuracy: 0.8237\n",
      "Epoch 3/50\n",
      "36/36 - 0s - loss: 0.3015 - accuracy: 0.8332 - val_loss: 0.2766 - val_accuracy: 0.8504\n",
      "Epoch 4/50\n",
      "36/36 - 0s - loss: 0.3060 - accuracy: 0.8291 - val_loss: 0.2835 - val_accuracy: 0.8393\n",
      "Epoch 5/50\n",
      "36/36 - 0s - loss: 0.3039 - accuracy: 0.8310 - val_loss: 0.2753 - val_accuracy: 0.8504\n",
      "Epoch 6/50\n",
      "36/36 - 0s - loss: 0.3095 - accuracy: 0.8288 - val_loss: 0.2958 - val_accuracy: 0.8326\n",
      "Epoch 7/50\n",
      "36/36 - 0s - loss: 0.3083 - accuracy: 0.8310 - val_loss: 0.2879 - val_accuracy: 0.8326\n",
      "Epoch 8/50\n",
      "36/36 - 0s - loss: 0.3028 - accuracy: 0.8291 - val_loss: 0.2779 - val_accuracy: 0.8460\n",
      "Epoch 9/50\n",
      "36/36 - 0s - loss: 0.3024 - accuracy: 0.8338 - val_loss: 0.2834 - val_accuracy: 0.8348\n",
      "Epoch 10/50\n",
      "36/36 - 0s - loss: 0.3031 - accuracy: 0.8355 - val_loss: 0.2824 - val_accuracy: 0.8415\n",
      "Epoch 11/50\n",
      "36/36 - 0s - loss: 0.3025 - accuracy: 0.8299 - val_loss: 0.2900 - val_accuracy: 0.8415\n"
     ]
    },
    {
     "data": {
      "text/plain": [
       "<tensorflow.python.keras.callbacks.History at 0x22391b281c0>"
      ]
     },
     "execution_count": 6,
     "metadata": {},
     "output_type": "execute_result"
    }
   ],
   "source": [
    "# the model might still be too sensitive, lets try a difference patience and see if we can improve the results \n",
    "\n",
    "early_stopping = tf.keras.callbacks.EarlyStopping(patience = 10)\n",
    "\n",
    "optimizer = 'adam'\n",
    "loss = 'sparse_categorical_crossentropy'\n",
    "metrics = 'accuracy'\n",
    "hidden_layer_size = 50\n",
    "layer_activation = ['relu','relu','relu','relu','relu']\n",
    "BUFFER_SIZE = 10\n",
    "BATCH_SIZE = 100\n",
    "NUM_EPOCHS = 50\n",
    "\n",
    "model.compile(optimizer = 'adam', loss = loss, metrics = metrics)\n",
    "model.fit(\n",
    "    train_inputs,\n",
    "    train_targets,\n",
    "    batch_size = BATCH_SIZE, \n",
    "    epochs = NUM_EPOCHS, \n",
    "    callbacks = [early_stopping],\n",
    "    validation_data = (validation_inputs,validation_targets),\n",
    "    verbose = 2\n",
    ")"
   ]
  },
  {
   "cell_type": "code",
   "execution_count": 7,
   "metadata": {},
   "outputs": [],
   "source": [
    "# looks like regardless of what we are doing, the overall fit of this model for this dataset is around 80-85%"
   ]
  },
  {
   "cell_type": "markdown",
   "metadata": {},
   "source": [
    "## Testing the Model"
   ]
  },
  {
   "cell_type": "code",
   "execution_count": 8,
   "metadata": {},
   "outputs": [
    {
     "name": "stdout",
     "output_type": "stream",
     "text": [
      "14/14 [==============================] - 0s 772us/step - loss: 0.3217 - accuracy: 0.8255\n"
     ]
    }
   ],
   "source": [
    "# we are going to test the model with the test dataset that we had\n",
    "\n",
    "test_loss, test_accuracy = model.evaluate(test_inputs, test_targets)"
   ]
  },
  {
   "cell_type": "code",
   "execution_count": 9,
   "metadata": {},
   "outputs": [
    {
     "name": "stdout",
     "output_type": "stream",
     "text": [
      "\n",
      "Test Loss: 0.32. Test Accuracy: 82.55%\n"
     ]
    }
   ],
   "source": [
    "print('\\nTest Loss: {0:.2f}. Test Accuracy: {1:.2f}%'.format(test_loss, test_accuracy*100))"
   ]
  },
  {
   "cell_type": "code",
   "execution_count": 10,
   "metadata": {},
   "outputs": [
    {
     "name": "stdout",
     "output_type": "stream",
     "text": [
      "Epoch 1/50\n",
      "4/4 - 0s - loss: 0.3044 - accuracy: 0.8302 - val_loss: 0.2881 - val_accuracy: 0.8460\n",
      "Epoch 2/50\n",
      "4/4 - 0s - loss: 0.2987 - accuracy: 0.8330 - val_loss: 0.2899 - val_accuracy: 0.8326\n",
      "Epoch 3/50\n",
      "4/4 - 0s - loss: 0.2961 - accuracy: 0.8369 - val_loss: 0.2945 - val_accuracy: 0.8326\n",
      "Epoch 4/50\n",
      "4/4 - 0s - loss: 0.2962 - accuracy: 0.8374 - val_loss: 0.2852 - val_accuracy: 0.8415\n",
      "Epoch 5/50\n",
      "4/4 - 0s - loss: 0.2934 - accuracy: 0.8408 - val_loss: 0.2784 - val_accuracy: 0.8482\n",
      "Epoch 6/50\n",
      "4/4 - 0s - loss: 0.2937 - accuracy: 0.8397 - val_loss: 0.2782 - val_accuracy: 0.8504\n",
      "Epoch 7/50\n",
      "4/4 - 0s - loss: 0.2924 - accuracy: 0.8422 - val_loss: 0.2812 - val_accuracy: 0.8304\n",
      "Epoch 8/50\n",
      "4/4 - 0s - loss: 0.2924 - accuracy: 0.8413 - val_loss: 0.2826 - val_accuracy: 0.8348\n",
      "Epoch 9/50\n",
      "4/4 - 0s - loss: 0.2916 - accuracy: 0.8458 - val_loss: 0.2778 - val_accuracy: 0.8504\n",
      "Epoch 10/50\n",
      "4/4 - 0s - loss: 0.2918 - accuracy: 0.8394 - val_loss: 0.2764 - val_accuracy: 0.8415\n",
      "Epoch 11/50\n",
      "4/4 - 0s - loss: 0.2912 - accuracy: 0.8402 - val_loss: 0.2802 - val_accuracy: 0.8504\n",
      "Epoch 12/50\n",
      "4/4 - 0s - loss: 0.2910 - accuracy: 0.8425 - val_loss: 0.2828 - val_accuracy: 0.8281\n",
      "Epoch 13/50\n",
      "4/4 - 0s - loss: 0.2908 - accuracy: 0.8436 - val_loss: 0.2790 - val_accuracy: 0.8371\n",
      "Epoch 14/50\n",
      "4/4 - 0s - loss: 0.2907 - accuracy: 0.8439 - val_loss: 0.2776 - val_accuracy: 0.8438\n",
      "Epoch 15/50\n",
      "4/4 - 0s - loss: 0.2905 - accuracy: 0.8385 - val_loss: 0.2797 - val_accuracy: 0.8259\n",
      "Epoch 16/50\n",
      "4/4 - 0s - loss: 0.2902 - accuracy: 0.8374 - val_loss: 0.2789 - val_accuracy: 0.8371\n",
      "Epoch 17/50\n",
      "4/4 - 0s - loss: 0.2902 - accuracy: 0.8427 - val_loss: 0.2778 - val_accuracy: 0.8393\n",
      "Epoch 18/50\n",
      "4/4 - 0s - loss: 0.2899 - accuracy: 0.8441 - val_loss: 0.2773 - val_accuracy: 0.8393\n",
      "Epoch 19/50\n",
      "4/4 - 0s - loss: 0.2900 - accuracy: 0.8369 - val_loss: 0.2770 - val_accuracy: 0.8460\n",
      "Epoch 20/50\n",
      "4/4 - 0s - loss: 0.2902 - accuracy: 0.8391 - val_loss: 0.2790 - val_accuracy: 0.8371\n"
     ]
    },
    {
     "data": {
      "text/plain": [
       "<tensorflow.python.keras.callbacks.History at 0x22391f03bb0>"
      ]
     },
     "execution_count": 10,
     "metadata": {},
     "output_type": "execute_result"
    }
   ],
   "source": [
    "BATCH_SIZE = 1000\n",
    "\n",
    "model.fit(\n",
    "    train_inputs,\n",
    "    train_targets,\n",
    "    batch_size = BATCH_SIZE, \n",
    "    epochs = NUM_EPOCHS, \n",
    "    callbacks = [early_stopping],\n",
    "    validation_data = (validation_inputs,validation_targets),\n",
    "    verbose = 2\n",
    ")"
   ]
  },
  {
   "cell_type": "code",
   "execution_count": 15,
   "metadata": {},
   "outputs": [
    {
     "name": "stdout",
     "output_type": "stream",
     "text": [
      "Epoch 1/50\n",
      "358/358 - 1s - loss: 0.3121 - accuracy: 0.8282 - val_loss: 0.2867 - val_accuracy: 0.8482\n",
      "Epoch 2/50\n",
      "358/358 - 0s - loss: 0.3167 - accuracy: 0.8291 - val_loss: 0.2920 - val_accuracy: 0.8237\n",
      "Epoch 3/50\n",
      "358/358 - 0s - loss: 0.3117 - accuracy: 0.8257 - val_loss: 0.2898 - val_accuracy: 0.8393\n",
      "Epoch 4/50\n",
      "358/358 - 0s - loss: 0.3118 - accuracy: 0.8296 - val_loss: 0.2959 - val_accuracy: 0.8304\n",
      "Epoch 5/50\n",
      "358/358 - 0s - loss: 0.3106 - accuracy: 0.8302 - val_loss: 0.2979 - val_accuracy: 0.8304\n",
      "Epoch 6/50\n",
      "358/358 - 0s - loss: 0.3118 - accuracy: 0.8285 - val_loss: 0.3060 - val_accuracy: 0.8259\n",
      "Epoch 7/50\n",
      "358/358 - 0s - loss: 0.3081 - accuracy: 0.8268 - val_loss: 0.3010 - val_accuracy: 0.8214\n",
      "Epoch 8/50\n",
      "358/358 - 0s - loss: 0.3090 - accuracy: 0.8243 - val_loss: 0.2860 - val_accuracy: 0.8237\n",
      "Epoch 9/50\n",
      "358/358 - 0s - loss: 0.3095 - accuracy: 0.8310 - val_loss: 0.3496 - val_accuracy: 0.8281\n",
      "Epoch 10/50\n",
      "358/358 - 0s - loss: 0.3122 - accuracy: 0.8296 - val_loss: 0.3426 - val_accuracy: 0.8125\n",
      "Epoch 11/50\n",
      "358/358 - 0s - loss: 0.3086 - accuracy: 0.8302 - val_loss: 0.2777 - val_accuracy: 0.8371\n",
      "Epoch 12/50\n",
      "358/358 - 0s - loss: 0.3085 - accuracy: 0.8249 - val_loss: 0.2788 - val_accuracy: 0.8438\n",
      "Epoch 13/50\n",
      "358/358 - 0s - loss: 0.3071 - accuracy: 0.8288 - val_loss: 0.2777 - val_accuracy: 0.8705\n",
      "Epoch 14/50\n",
      "358/358 - 0s - loss: 0.3096 - accuracy: 0.8240 - val_loss: 0.2770 - val_accuracy: 0.8460\n",
      "Epoch 15/50\n",
      "358/358 - 0s - loss: 0.3036 - accuracy: 0.8282 - val_loss: 0.2809 - val_accuracy: 0.8415\n",
      "Epoch 16/50\n",
      "358/358 - 0s - loss: 0.3059 - accuracy: 0.8274 - val_loss: 0.3036 - val_accuracy: 0.8192\n",
      "Epoch 17/50\n",
      "358/358 - 0s - loss: 0.3057 - accuracy: 0.8240 - val_loss: 0.2782 - val_accuracy: 0.8482\n",
      "Epoch 18/50\n",
      "358/358 - 0s - loss: 0.3049 - accuracy: 0.8285 - val_loss: 0.2842 - val_accuracy: 0.8504\n",
      "Epoch 19/50\n",
      "358/358 - 0s - loss: 0.3072 - accuracy: 0.8279 - val_loss: 0.2852 - val_accuracy: 0.8371\n",
      "Epoch 20/50\n",
      "358/358 - 0s - loss: 0.3049 - accuracy: 0.8260 - val_loss: 0.2999 - val_accuracy: 0.8170\n",
      "Epoch 21/50\n",
      "358/358 - 0s - loss: 0.3045 - accuracy: 0.8313 - val_loss: 0.2801 - val_accuracy: 0.8326\n",
      "Epoch 22/50\n",
      "358/358 - 0s - loss: 0.3028 - accuracy: 0.8324 - val_loss: 0.2893 - val_accuracy: 0.8415\n",
      "Epoch 23/50\n",
      "358/358 - 0s - loss: 0.3056 - accuracy: 0.8293 - val_loss: 0.2805 - val_accuracy: 0.8482\n",
      "Epoch 24/50\n",
      "358/358 - 0s - loss: 0.3043 - accuracy: 0.8293 - val_loss: 0.2839 - val_accuracy: 0.8170\n"
     ]
    },
    {
     "data": {
      "text/plain": [
       "<tensorflow.python.keras.callbacks.History at 0x22394a5d5b0>"
      ]
     },
     "execution_count": 15,
     "metadata": {},
     "output_type": "execute_result"
    }
   ],
   "source": [
    "early_stopping = tf.keras.callbacks.EarlyStopping(patience = 10)\n",
    "\n",
    "optimizer = 'adam'\n",
    "loss = 'sparse_categorical_crossentropy'\n",
    "metrics = 'accuracy'\n",
    "hidden_layer_size = 100\n",
    "layer_activation = ['relu','relu','relu','relu']\n",
    "BUFFER_SIZE = 1\n",
    "BATCH_SIZE = 10\n",
    "NUM_EPOCHS = 50\n",
    "\n",
    "model.compile(optimizer = 'adam', loss = loss, metrics = metrics)\n",
    "model.fit(\n",
    "    train_inputs,\n",
    "    train_targets,\n",
    "    batch_size = BATCH_SIZE, \n",
    "    epochs = NUM_EPOCHS, \n",
    "    callbacks = [early_stopping],\n",
    "    validation_data = (validation_inputs,validation_targets),\n",
    "    verbose = 2\n",
    ")"
   ]
  },
  {
   "cell_type": "code",
   "execution_count": null,
   "metadata": {},
   "outputs": [],
   "source": []
  }
 ],
 "metadata": {
  "kernelspec": {
   "display_name": "Python (py3-TF2.0)",
   "language": "python",
   "name": "py3-tf2.0"
  },
  "language_info": {
   "codemirror_mode": {
    "name": "ipython",
    "version": 3
   },
   "file_extension": ".py",
   "mimetype": "text/x-python",
   "name": "python",
   "nbconvert_exporter": "python",
   "pygments_lexer": "ipython3",
   "version": "3.8.5"
  }
 },
 "nbformat": 4,
 "nbformat_minor": 4
}
